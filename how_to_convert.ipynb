{
 "cells": [
  {
   "cell_type": "markdown",
   "metadata": {},
   "source": [
    "## How to convert to pdf:"
   ]
  },
  {
   "cell_type": "markdown",
   "metadata": {},
   "source": [
    "1. Have all neccessary latex packages\n",
    "2. Have the file [citations.tplx](citations.tplx) in same folder (gives the template for latex) and your bib file (here IPCC_terje.bib)\n",
    "3. Edit the notebook metadata, e.g.:\n",
    "```\n",
    " \"latex_metadata\": {\n",
    "        \"author\": \"Sara Blichner, T. K. Berntsen\",\n",
    "        \"bibliography\": \"IPCC_terje\",\n",
    "        \"bibstyle\": \"plain\",\n",
    "        \"title\": \"Comparison of temperature response for various climate gases\"\n",
    "    }\n",
    "```\n",
    "\n"
   ]
  },
  {
   "cell_type": "markdown",
   "metadata": {},
   "source": [
    "4. Edit figure captions with cell metadata:\n",
    "```\n",
    "{\n",
    "    \"caption\": \"some caption\",\n",
    "    \"label\": \"fig:some\",\n",
    "}\n",
    "```"
   ]
  },
  {
   "cell_type": "markdown",
   "metadata": {},
   "source": [
    "5. Run script:\n",
    "```bash\n",
    " ./convert_notebook.sh notebook_name citations.tplx \n",
    "\n",
    "```\n",
    "(Notebook name without extension)"
   ]
  }
 ],
 "metadata": {
  "jupytext": {
   "text_representation": {
    "extension": ".py",
    "format_name": "percent",
    "format_version": "1.2",
    "jupytext_version": "1.2.4"
   }
  },
  "kernelspec": {
   "display_name": "Python 3",
   "language": "python",
   "name": "python3"
  },
  "language_info": {
   "codemirror_mode": {
    "name": "ipython",
    "version": 3
   },
   "file_extension": ".py",
   "mimetype": "text/x-python",
   "name": "python",
   "nbconvert_exporter": "python",
   "pygments_lexer": "ipython3",
   "version": "3.6.7"
  }
 },
 "nbformat": 4,
 "nbformat_minor": 4
}
